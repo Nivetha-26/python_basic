{
  "cells": [
    {
      "cell_type": "markdown",
      "metadata": {
        "id": "view-in-github",
        "colab_type": "text"
      },
      "source": [
        "<a href=\"https://colab.research.google.com/github/Nivetha-26/python_basic/blob/main/(Updated)Python_Basics_withLinks_noCode.ipynb\" target=\"_parent\"><img src=\"https://colab.research.google.com/assets/colab-badge.svg\" alt=\"Open In Colab\"/></a>"
      ]
    },
    {
      "cell_type": "markdown",
      "source": [
        "<center><h1> Python Basics</h1></center>\n"
      ],
      "metadata": {
        "id": "X01f_sPwOnmX"
      }
    },
    {
      "cell_type": "markdown",
      "source": [
        "![image.png](https://pythonawesome.com/content/images/2019/09/Edward2.jpg)"
      ],
      "metadata": {
        "id": "sAxrb2-DOwQ2"
      }
    },
    {
      "cell_type": "code",
      "execution_count": null,
      "source": [
        "from IPython.display import YouTubeVideo\n",
        "YouTubeVideo('https://www.youtube.com/watch?v=izgBmCnp1Oc&list=PLsR_0x6BuM-HJZT6Xzj-088N4hN3KsDME&index=1',width=600,height=300)"
      ],
      "outputs": [
        {
          "output_type": "execute_result",
          "data": {
            "text/html": [
              "\n",
              "        <iframe\n",
              "            width=\"600\"\n",
              "            height=\"300\"\n",
              "            src=\"https://www.youtube.com/embed/https://www.youtube.com/watch?v=izgBmCnp1Oc&list=PLsR_0x6BuM-HJZT6Xzj-088N4hN3KsDME&index=1\"\n",
              "            frameborder=\"0\"\n",
              "            allowfullscreen\n",
              "        ></iframe>\n",
              "        "
            ],
            "text/plain": [
              "<IPython.lib.display.YouTubeVideo at 0x7efe85638790>"
            ]
          },
          "metadata": {},
          "execution_count": 4
        }
      ],
      "metadata": {
        "colab": {
          "base_uri": "https://localhost:8080/",
          "height": 321
        },
        "id": "j6_2OG08Onmh",
        "outputId": "1fdf47f9-61f5-40f8-f1c2-fea6b87b5c88"
      }
    },
    {
      "cell_type": "markdown",
      "source": [
        "Python is emerging as the popular language used more in data science applications.\n",
        "\n",
        "Take the case of the tech giant Google that has created the deep learning framework called tensorflow – Python is the primary language used for creating this framework. Its footprint has continued to increase in the environment promoted by Netflix. Production engineers at Facebook and Khan Academy have for long been using it as a prominent language in their environment.\n",
        "\n",
        "Python became the most popular language in the data science world.\n",
        "So what are you waiting for? Lets start learning python basic as your first assignment.\n",
        "\n",
        "\n",
        "Add-on Reference: https://youtu.be/HGOBQPFzWKo\n",
        "\n",
        "Add-on reference: https://youtu.be/8DvywoWv6fI\n",
        "\n",
        "\n",
        "## Variable declaration"
      ],
      "metadata": {
        "id": "rw6fWHMFOnmj"
      }
    },
    {
      "cell_type": "markdown",
      "source": [
        "Covers the topic of variable declaration and type of variables\n",
        "\n",
        "<p style='text-align: right;'> 1+1+1+1+1 = 5 points</p>\n"
      ],
      "metadata": {
        "id": "_B2hCySwOnmm"
      }
    },
    {
      "cell_type": "code",
      "source": [
        "#1 Variables\n",
        "\n",
        "YouTubeVideo('https://www.youtube.com/watch?v=YdDfEbaUPJs&list=PLsR_0x6BuM-HJZT6Xzj-088N4hN3KsDME&index=2',width=600,height=300)"
      ],
      "metadata": {
        "colab": {
          "base_uri": "https://localhost:8080/",
          "height": 321
        },
        "id": "ixKyik4SQj1y",
        "outputId": "9909f016-7240-4b93-8c86-f4b80cf0464f"
      },
      "execution_count": null,
      "outputs": [
        {
          "output_type": "execute_result",
          "data": {
            "text/html": [
              "\n",
              "        <iframe\n",
              "            width=\"600\"\n",
              "            height=\"300\"\n",
              "            src=\"https://www.youtube.com/embed/https://www.youtube.com/watch?v=YdDfEbaUPJs&list=PLsR_0x6BuM-HJZT6Xzj-088N4hN3KsDME&index=2\"\n",
              "            frameborder=\"0\"\n",
              "            allowfullscreen\n",
              "        ></iframe>\n",
              "        "
            ],
            "text/plain": [
              "<IPython.lib.display.YouTubeVideo at 0x7fc907f1fa50>"
            ]
          },
          "metadata": {},
          "execution_count": 6
        }
      ]
    },
    {
      "cell_type": "code",
      "source": [
        "#2 Variables\n",
        "\n",
        "YouTubeVideo('https://www.youtube.com/watch?v=gOcRxdGovhc&list=PLsR_0x6BuM-HJZT6Xzj-088N4hN3KsDME&index=3',width=600,height=300)"
      ],
      "metadata": {
        "colab": {
          "base_uri": "https://localhost:8080/",
          "height": 321
        },
        "id": "UlSqi2TSQvgw",
        "outputId": "b0b3019b-ed2d-4abc-fc7d-6d7dac0cdbde"
      },
      "execution_count": null,
      "outputs": [
        {
          "output_type": "execute_result",
          "data": {
            "text/html": [
              "\n",
              "        <iframe\n",
              "            width=\"600\"\n",
              "            height=\"300\"\n",
              "            src=\"https://www.youtube.com/embed/https://www.youtube.com/watch?v=gOcRxdGovhc&list=PLsR_0x6BuM-HJZT6Xzj-088N4hN3KsDME&index=3\"\n",
              "            frameborder=\"0\"\n",
              "            allowfullscreen\n",
              "        ></iframe>\n",
              "        "
            ],
            "text/plain": [
              "<IPython.lib.display.YouTubeVideo at 0x7fc907ea35d0>"
            ]
          },
          "metadata": {},
          "execution_count": 7
        }
      ]
    },
    {
      "cell_type": "code",
      "execution_count": null,
      "source": [
        "# declare two variables, a = 5, b = 'city'\n",
        "a = 18\n",
        "b = 'nivetha'"
      ],
      "outputs": [],
      "metadata": {
        "id": "XgolDndUOnmn"
      }
    },
    {
      "cell_type": "code",
      "execution_count": null,
      "source": [
        "# print type of a\n",
        "print(type(a))"
      ],
      "outputs": [
        {
          "output_type": "stream",
          "name": "stdout",
          "text": [
            "<class 'int'>\n"
          ]
        }
      ],
      "metadata": {
        "id": "0UNQOo-QOnmo",
        "colab": {
          "base_uri": "https://localhost:8080/"
        },
        "outputId": "07d3c068-52fc-4947-93ca-aed893342193"
      }
    },
    {
      "cell_type": "code",
      "execution_count": null,
      "source": [
        "# print type of b\n",
        "print(type(b))"
      ],
      "outputs": [
        {
          "output_type": "stream",
          "name": "stdout",
          "text": [
            "<class 'str'>\n"
          ]
        }
      ],
      "metadata": {
        "id": "HvaV3dnoOnms",
        "colab": {
          "base_uri": "https://localhost:8080/"
        },
        "outputId": "615f4e5f-a7c6-4d2c-a351-3ef1bac7b596"
      }
    },
    {
      "cell_type": "code",
      "execution_count": null,
      "source": [
        "# swap the values of a and b\n",
        "# hint, if a = 3 and b = \"cloudyML\" then u can swap values like this\n",
        "\"\"\"\n",
        "a = 3\n",
        "b = \"cloudyML\"\n",
        "temp = a # defined a temporary variable and store value of a in temp\n",
        "a = b # swap\n",
        "b = temp # give value of a stored in temp to b\n",
        "\"\"\""
      ],
      "outputs": [
        {
          "output_type": "execute_result",
          "data": {
            "application/vnd.google.colaboratory.intrinsic+json": {
              "type": "string"
            },
            "text/plain": [
              "'\\na = 3\\nb = \"cloudyML\"\\ntemp = a # defined a temporary variable and store value of a in temp\\na = b # swap\\nb = temp # give value of a stored in temp to b\\n'"
            ]
          },
          "metadata": {},
          "execution_count": 5
        }
      ],
      "metadata": {
        "id": "8fnWzilIOnmu",
        "colab": {
          "base_uri": "https://localhost:8080/",
          "height": 35
        },
        "outputId": "33dfc3ad-8bd8-4b4f-84a5-fe496e45408c"
      }
    },
    {
      "cell_type": "code",
      "execution_count": null,
      "source": [
        "# run this to confirm \n",
        "temp=a\n",
        "a=b\n",
        "b=temp"
      ],
      "outputs": [],
      "metadata": {
        "id": "SWd_9g8YOnmv"
      }
    },
    {
      "cell_type": "markdown",
      "source": [
        "Cool! so variable declaration and getting it's type was easy."
      ],
      "metadata": {
        "id": "jZxcxXV2Onmx"
      }
    },
    {
      "cell_type": "code",
      "source": [
        "#3 Data Structure\n",
        "\n",
        "YouTubeVideo('https://www.youtube.com/watch?v=R0yDN07Jw_c&list=PLsR_0x6BuM-HJZT6Xzj-088N4hN3KsDME&index=4',width=600,height=300)"
      ],
      "metadata": {
        "colab": {
          "base_uri": "https://localhost:8080/",
          "height": 321
        },
        "id": "iGEGIEOsRG4N",
        "outputId": "6ffa9eef-8db8-4b03-d5d3-ee2c76f541e0"
      },
      "execution_count": null,
      "outputs": [
        {
          "output_type": "execute_result",
          "data": {
            "text/html": [
              "\n",
              "        <iframe\n",
              "            width=\"600\"\n",
              "            height=\"300\"\n",
              "            src=\"https://www.youtube.com/embed/https://www.youtube.com/watch?v=R0yDN07Jw_c&list=PLsR_0x6BuM-HJZT6Xzj-088N4hN3KsDME&index=4\"\n",
              "            frameborder=\"0\"\n",
              "            allowfullscreen\n",
              "        ></iframe>\n",
              "        "
            ],
            "text/plain": [
              "<IPython.lib.display.YouTubeVideo at 0x7fc907eec610>"
            ]
          },
          "metadata": {},
          "execution_count": 13
        }
      ]
    },
    {
      "cell_type": "markdown",
      "source": [
        "## Arithmetic Operations"
      ],
      "metadata": {
        "id": "pDfT0V3IOnmx"
      }
    },
    {
      "cell_type": "markdown",
      "source": [
        "Hey novice! this will be easy for you until you know basic arithmetic symbols like +, -, /, * etc.\n",
        "\n",
        "\n",
        "<p style='text-align: right;'> 1 + 7 = 8 points </p>\n"
      ],
      "metadata": {
        "id": "s7I8ndJiOnmy"
      }
    },
    {
      "cell_type": "code",
      "source": [
        "#4 Operators\n",
        "YouTubeVideo('https://www.youtube.com/watch?v=kj-UnITecRE&list=PLsR_0x6BuM-HJZT6Xzj-088N4hN3KsDME&index=10',width=600,height=300)"
      ],
      "metadata": {
        "colab": {
          "base_uri": "https://localhost:8080/",
          "height": 321
        },
        "id": "Gty2GGCgRXTF",
        "outputId": "5c2109a2-1043-4242-bd7e-ac65946e85a3"
      },
      "execution_count": null,
      "outputs": [
        {
          "output_type": "execute_result",
          "data": {
            "text/html": [
              "\n",
              "        <iframe\n",
              "            width=\"600\"\n",
              "            height=\"300\"\n",
              "            src=\"https://www.youtube.com/embed/https://www.youtube.com/watch?v=kj-UnITecRE&list=PLsR_0x6BuM-HJZT6Xzj-088N4hN3KsDME&index=10\"\n",
              "            frameborder=\"0\"\n",
              "            allowfullscreen\n",
              "        ></iframe>\n",
              "        "
            ],
            "text/plain": [
              "<IPython.lib.display.YouTubeVideo at 0x7fc907f05cd0>"
            ]
          },
          "metadata": {},
          "execution_count": 14
        }
      ]
    },
    {
      "cell_type": "code",
      "execution_count": null,
      "source": [
        "# declare two variables, a = 24, b = 3\n",
        "\n",
        "a = 24\n",
        "b = 3\n",
        "print('a = {}, b = {}'.format(a,b))"
      ],
      "outputs": [
        {
          "output_type": "stream",
          "name": "stdout",
          "text": [
            "a = 24, b = 3\n"
          ]
        }
      ],
      "metadata": {
        "id": "GrGEajK2Onmz",
        "colab": {
          "base_uri": "https://localhost:8080/"
        },
        "outputId": "4c9a3d2e-d116-4eec-f500-3dcff539341c"
      }
    },
    {
      "cell_type": "code",
      "execution_count": null,
      "source": [
        "print(a+b)"
      ],
      "outputs": [
        {
          "output_type": "stream",
          "name": "stdout",
          "text": [
            "27\n"
          ]
        }
      ],
      "metadata": {
        "id": "diniCQx5Onm0",
        "colab": {
          "base_uri": "https://localhost:8080/"
        },
        "outputId": "9fbbd738-7507-4250-9ba8-013784d77539"
      }
    },
    {
      "cell_type": "code",
      "execution_count": null,
      "source": [
        "# calculate and print all the possible numerical operations on a and b (There are total 7 operations)\n",
        "# You can use string formatting to get the exact output like ours.\n",
        "# hint: print(\"a + b = {}\".format(a+b))\n",
        "print(\"a+b={}\".format(a+b))\n",
        "print(\"a-b={}\".format(a-b))\n",
        "print(\"a*b={}\".format(a*b))\n",
        "print(\"a/b={}\".format(a/b))\n",
        "print(\"a%b={}\".format(a%b))\n",
        "print(\"a//b={}\".format(a//b))\n",
        "print(\"a^b={}\".format(a^b))\n",
        "print('''a+b={}\n",
        "a-b={}'''.format((a+b),(a-b)))"
      ],
      "outputs": [
        {
          "output_type": "stream",
          "name": "stdout",
          "text": [
            "a+b=27\n",
            "a-b=21\n",
            "a*b=72\n",
            "a/b=8.0\n",
            "a%b=0\n",
            "a//b=8\n",
            "a^b=27\n",
            "a+b=27\n",
            "a-b=21\n"
          ]
        }
      ],
      "metadata": {
        "id": "N_GYfccYOnm0",
        "colab": {
          "base_uri": "https://localhost:8080/"
        },
        "outputId": "df0bdfa0-e2a4-4d43-bbbe-b97284a0e1ea"
      }
    },
    {
      "cell_type": "markdown",
      "source": [
        "## Math Functions"
      ],
      "metadata": {
        "id": "SnON_Kw9Onm1"
      }
    },
    {
      "cell_type": "markdown",
      "source": [
        "Lets do some simple mathematical operations by using math module. Math module contains various mathematical functions. So here we go!\n",
        "\n",
        "Additional Reference:- https://youtu.be/gktjNyV0xks\n",
        "\n",
        "Reference document: https://docs.python.org/3/library/math.html\n",
        "<p style='text-align: right;'> 10 points </p>\n",
        "\n",
        "\n"
      ],
      "metadata": {
        "id": "1hTzZGrsOnm2"
      }
    },
    {
      "cell_type": "code",
      "execution_count": null,
      "source": [
        "#import math"
      ],
      "outputs": [],
      "metadata": {
        "id": "Y3odgoqgOnm2"
      }
    },
    {
      "cell_type": "code",
      "execution_count": null,
      "source": [
        "x=2\n",
        "y=5.32167\n",
        "# declare a variable x = 2 and y=5.32167"
      ],
      "outputs": [],
      "metadata": {
        "id": "vVALGHwCOnm3"
      }
    },
    {
      "cell_type": "code",
      "execution_count": null,
      "source": [
        "# Print the maximum value between x and y\n",
        "print(max(x,y))"
      ],
      "outputs": [
        {
          "output_type": "stream",
          "name": "stdout",
          "text": [
            "5.32167\n"
          ]
        }
      ],
      "metadata": {
        "id": "h9xFqnF7Onm3",
        "colab": {
          "base_uri": "https://localhost:8080/"
        },
        "outputId": "f0d436bf-fd88-454c-baf1-c1f880c1c669"
      }
    },
    {
      "cell_type": "code",
      "execution_count": null,
      "source": [
        "# Print the minimum value between x and y\n",
        "print(min(x,y))"
      ],
      "outputs": [
        {
          "output_type": "stream",
          "name": "stdout",
          "text": [
            "2\n"
          ]
        }
      ],
      "metadata": {
        "id": "Ek-Wrhb6Onm3",
        "colab": {
          "base_uri": "https://localhost:8080/"
        },
        "outputId": "51a89c4f-229c-47e1-97ed-b543cac791bd"
      }
    },
    {
      "cell_type": "code",
      "execution_count": null,
      "source": [
        "# Print square and cube of x and store in a and b variable\n",
        "a=x**2\n",
        "b=x**3\n",
        "print('''{}\n",
        "{}'''.format(a,b))\n"
      ],
      "outputs": [
        {
          "output_type": "stream",
          "name": "stdout",
          "text": [
            "4\n",
            "8\n"
          ]
        }
      ],
      "metadata": {
        "id": "NHK3kCGAOnm4",
        "colab": {
          "base_uri": "https://localhost:8080/"
        },
        "outputId": "85216858-b535-44c9-fb54-f91071ee339f"
      }
    },
    {
      "cell_type": "code",
      "execution_count": null,
      "source": [
        "#print log of x and store it in variable c\n",
        "import math\n",
        "c=math.log(x)\n",
        "print('{}'.format(c))"
      ],
      "outputs": [
        {
          "output_type": "stream",
          "name": "stdout",
          "text": [
            "0.6931471805599453\n"
          ]
        }
      ],
      "metadata": {
        "id": "ARYINv9AOnm4",
        "colab": {
          "base_uri": "https://localhost:8080/"
        },
        "outputId": "b27467ff-6dc9-4e41-f7d9-c3febd01c877"
      }
    },
    {
      "cell_type": "code",
      "execution_count": null,
      "source": [
        "#print minimum value between x,y,a, b and c\n",
        "print(min(x,y,a,b,c))"
      ],
      "outputs": [
        {
          "output_type": "stream",
          "name": "stdout",
          "text": [
            "0.6931471805599453\n"
          ]
        }
      ],
      "metadata": {
        "id": "xGbjPCVfOnm5",
        "colab": {
          "base_uri": "https://localhost:8080/"
        },
        "outputId": "36db84d6-ba28-4f35-9de5-d9379eb9064a"
      }
    },
    {
      "cell_type": "code",
      "execution_count": null,
      "source": [
        "#print maximum value between x,y,a, b and c\n",
        "print(max(x,y,a,b,c))"
      ],
      "outputs": [
        {
          "output_type": "stream",
          "name": "stdout",
          "text": [
            "8\n"
          ]
        }
      ],
      "metadata": {
        "id": "Cr2aOwOYOnm5",
        "colab": {
          "base_uri": "https://localhost:8080/"
        },
        "outputId": "d78a0692-f9c0-4fc7-d337-4f9d16ff974a"
      }
    },
    {
      "cell_type": "code",
      "execution_count": null,
      "source": [
        "#print the largest integer that is smaller than or equal to c. ie.round down\n",
        "print(math.floor(c))"
      ],
      "outputs": [
        {
          "output_type": "stream",
          "name": "stdout",
          "text": [
            "0\n"
          ]
        }
      ],
      "metadata": {
        "id": "cdTE9jHJOnm5",
        "colab": {
          "base_uri": "https://localhost:8080/"
        },
        "outputId": "5fda3da5-1f76-44ad-e18a-463c95daf47b"
      }
    },
    {
      "cell_type": "code",
      "execution_count": null,
      "source": [
        "#print the smallest integer that is greater than or equal to c ie. round up\n",
        "print(math.ceil(c))"
      ],
      "outputs": [
        {
          "output_type": "stream",
          "name": "stdout",
          "text": [
            "1\n"
          ]
        }
      ],
      "metadata": {
        "id": "YuQFq6iTOnm6",
        "colab": {
          "base_uri": "https://localhost:8080/"
        },
        "outputId": "d0371c7f-a027-4047-9d78-93dfb1e33955"
      }
    },
    {
      "cell_type": "markdown",
      "source": [
        "## Logical operations\n",
        "\n",
        "You must be aware of some logical operations you did in college, like 'and', 'or', 'not' etc. These operations becomes even more easy to implement when you have friend like python.\n",
        "\n",
        "<p style='text-align: right;'> 1 + 1 + 1 + 6 = 9 points </p>\n"
      ],
      "metadata": {
        "id": "7ywGXy77Onm6"
      }
    },
    {
      "cell_type": "code",
      "execution_count": null,
      "source": [
        "# declare two variables, a = True, b = False\n",
        "a =  True\n",
        "b=False\n",
        "print(a)\n",
        "print(b)\n"
      ],
      "outputs": [
        {
          "output_type": "stream",
          "name": "stdout",
          "text": [
            "True\n",
            "False\n"
          ]
        }
      ],
      "metadata": {
        "id": "qD67cRQJOnm7",
        "colab": {
          "base_uri": "https://localhost:8080/"
        },
        "outputId": "760002ce-e95d-492a-e730-646bc7551903"
      }
    },
    {
      "cell_type": "code",
      "execution_count": null,
      "source": [
        "# print type of a and type of b\n",
        "print(type(a))\n",
        "print(type(b))"
      ],
      "outputs": [
        {
          "output_type": "stream",
          "name": "stdout",
          "text": [
            "<class 'bool'>\n",
            "<class 'bool'>\n"
          ]
        }
      ],
      "metadata": {
        "id": "f5Vs8qzjOnm7",
        "colab": {
          "base_uri": "https://localhost:8080/"
        },
        "outputId": "59c7e616-1320-45a4-ae2e-621a9da23c49"
      }
    },
    {
      "cell_type": "markdown",
      "source": [
        "A fun fact for you !\n",
        "The Python Boolean type is one of Python's built-in data types. It's used to represent the truth value of an expression"
      ],
      "metadata": {
        "id": "c3_XIcPkOnm7"
      }
    },
    {
      "cell_type": "code",
      "execution_count": null,
      "source": [
        "# print int(a) and int(b)\n",
        "print(int(a))\n",
        "print(int(b))"
      ],
      "outputs": [
        {
          "output_type": "stream",
          "name": "stdout",
          "text": [
            "1\n",
            "0\n"
          ]
        }
      ],
      "metadata": {
        "id": "lCruZY6_Onm8",
        "colab": {
          "base_uri": "https://localhost:8080/"
        },
        "outputId": "c81f7e21-8a84-42e6-9918-f3cde64dad17"
      }
    },
    {
      "cell_type": "markdown",
      "source": [
        "We are sure you must have seen that, values for 'True' is 1 and for 'False' is 0."
      ],
      "metadata": {
        "id": "y2pKlWHBOnm8"
      }
    },
    {
      "cell_type": "code",
      "execution_count": null,
      "source": [
        "# Find and print the values of not a, not b, a and b, a or b, a and not b\n",
        "# Use not operator for not a and not b\n",
        "\n",
        "print(\"not a ={}\".format(not a))\n",
        "print(\"not b ={}\".format(not b))\n",
        "print(\"a and b ={}\".format(a and b))\n",
        "print(\"a or b ={}\".format(a or b))\n",
        "print(\"a and not b ={}\".format(a and not b))"
      ],
      "outputs": [
        {
          "output_type": "stream",
          "name": "stdout",
          "text": [
            "not a =False\n",
            "not b =True\n",
            "a and b =False\n",
            "a or b =True\n",
            "a and not b =True\n"
          ]
        }
      ],
      "metadata": {
        "id": "IEuVTnsAOnm8",
        "colab": {
          "base_uri": "https://localhost:8080/"
        },
        "outputId": "44d0e665-60ad-4959-ca41-6e4083374570"
      }
    },
    {
      "cell_type": "markdown",
      "source": [
        "We hope you tried to undertand the above output! "
      ],
      "metadata": {
        "id": "TI7-60doOnm9"
      }
    },
    {
      "cell_type": "markdown",
      "source": [
        "## List Comprehensions\n",
        "\n",
        "Hey buddy! Python has really amazing thing called list comprehension. List comprehension offers a shorter syntax when you want to create a new list based on the values of an existing list. Cool right? Let's dive into this more by doing it. \n",
        "\n",
        "<p style='text-align: right;'> 10 + 10 + 10= 30 points </p>\n",
        "\n"
      ],
      "metadata": {
        "id": "Ngtt9xc6Onm9"
      }
    },
    {
      "cell_type": "code",
      "source": [
        "# Comprehension\n",
        "YouTubeVideo('https://www.youtube.com/watch?v=Cs8wG--s4z4&list=PLsR_0x6BuM-HJZT6Xzj-088N4hN3KsDME&index=17',width=600,height=300)"
      ],
      "metadata": {
        "colab": {
          "base_uri": "https://localhost:8080/",
          "height": 183
        },
        "id": "A7MBHOJVSGFV",
        "outputId": "0fd3a56f-34b4-40ce-aeea-de934bef3a35"
      },
      "execution_count": null,
      "outputs": [
        {
          "output_type": "error",
          "ename": "NameError",
          "evalue": "ignored",
          "traceback": [
            "\u001b[0;31m---------------------------------------------------------------------------\u001b[0m",
            "\u001b[0;31mNameError\u001b[0m                                 Traceback (most recent call last)",
            "\u001b[0;32m<ipython-input-2-9d83d292591e>\u001b[0m in \u001b[0;36m<module>\u001b[0;34m()\u001b[0m\n\u001b[1;32m      1\u001b[0m \u001b[0;31m# Comprehension\u001b[0m\u001b[0;34m\u001b[0m\u001b[0;34m\u001b[0m\u001b[0;34m\u001b[0m\u001b[0m\n\u001b[0;32m----> 2\u001b[0;31m \u001b[0mYouTubeVideo\u001b[0m\u001b[0;34m(\u001b[0m\u001b[0;34m'https://www.youtube.com/watch?v=Cs8wG--s4z4&list=PLsR_0x6BuM-HJZT6Xzj-088N4hN3KsDME&index=17'\u001b[0m\u001b[0;34m,\u001b[0m\u001b[0mwidth\u001b[0m\u001b[0;34m=\u001b[0m\u001b[0;36m600\u001b[0m\u001b[0;34m,\u001b[0m\u001b[0mheight\u001b[0m\u001b[0;34m=\u001b[0m\u001b[0;36m300\u001b[0m\u001b[0;34m)\u001b[0m\u001b[0;34m\u001b[0m\u001b[0;34m\u001b[0m\u001b[0m\n\u001b[0m",
            "\u001b[0;31mNameError\u001b[0m: name 'YouTubeVideo' is not defined"
          ]
        }
      ]
    },
    {
      "cell_type": "code",
      "execution_count": null,
      "source": [
        "# Using list comprehension, create a list containing numbers from 1 to 20. \n",
        "# Hint: You can use range function of python to do this.\n",
        "list_a=[*range(1,21,1)]\n",
        "print(list_a)"
      ],
      "outputs": [
        {
          "output_type": "stream",
          "name": "stdout",
          "text": [
            "[1, 2, 3, 4, 5, 6, 7, 8, 9, 10, 11, 12, 13, 14, 15, 16, 17, 18, 19, 20]\n"
          ]
        }
      ],
      "metadata": {
        "id": "EFQZLhkDOnm9",
        "colab": {
          "base_uri": "https://localhost:8080/"
        },
        "outputId": "39f84c51-c751-4c24-e263-a3f8b1676b9d"
      }
    },
    {
      "cell_type": "code",
      "execution_count": null,
      "source": [
        "# Using list comprehension, create a list containing numbers from 1 to 20 that are even\n",
        "list_a=[*range(1,21,2)]\n",
        "print(list_a)"
      ],
      "outputs": [
        {
          "output_type": "stream",
          "name": "stdout",
          "text": [
            "[1, 3, 5, 7, 9, 11, 13, 15, 17, 19]\n"
          ]
        }
      ],
      "metadata": {
        "id": "3fZ8aOSyOnm9",
        "colab": {
          "base_uri": "https://localhost:8080/"
        },
        "outputId": "9b7b4396-0f1a-491d-a196-c0f47e252293"
      }
    },
    {
      "cell_type": "markdown",
      "source": [
        "Create a list of all the fruits you like. Using list comprehension, create another list which contains the total number of charachters for each corresponding fruits.\n",
        "- Eg. fruits = [‘apple’,’kiwi’,’orange’], then output would be - [5,4,6]\n"
      ],
      "metadata": {
        "id": "Nom_UZdsOnm-"
      }
    },
    {
      "cell_type": "code",
      "execution_count": null,
      "source": [
        "fruits = ['orange','apple','mango']\n",
        "len_fruits = [len(x) for x in fruits]\n",
        "print(fruits)\n",
        "print(len_fruits)\n"
      ],
      "outputs": [
        {
          "output_type": "stream",
          "name": "stdout",
          "text": [
            "['orange', 'apple', 'mango']\n",
            "[6, 5, 5]\n"
          ]
        }
      ],
      "metadata": {
        "id": "qgTZeieSOnm-",
        "colab": {
          "base_uri": "https://localhost:8080/"
        },
        "outputId": "e8024177-d5c4-43a1-d3ee-0eb4aac2c2f2"
      }
    },
    {
      "cell_type": "markdown",
      "source": [
        "The above output is shown if fruits = ['apple','kiwi,'orange'], it can vary for different values of fruits\n",
        "\n",
        "Amazing right?\n"
      ],
      "metadata": {
        "id": "EmUChdf-Onm-"
      }
    },
    {
      "cell_type": "markdown",
      "source": [
        "## String value and operators\n",
        "\n",
        "<p style='text-align: right;'> 1 + 1 + 1 + 1 + 1 = 5 points </p>\n"
      ],
      "metadata": {
        "id": "wPzfKH4vOnm_"
      }
    },
    {
      "cell_type": "code",
      "execution_count": null,
      "source": [
        "# string manipulation\n",
        "YouTubeVideo('https://www.youtube.com/watch?v=I6UH_prRboE&list=PLsR_0x6BuM-HJZT6Xzj-088N4hN3KsDME&index=9',width=600,height=300)"
      ],
      "outputs": [
        {
          "output_type": "execute_result",
          "data": {
            "text/html": [
              "\n",
              "        <iframe\n",
              "            width=\"600\"\n",
              "            height=\"300\"\n",
              "            src=\"https://www.youtube.com/embed/https://www.youtube.com/watch?v=I6UH_prRboE&list=PLsR_0x6BuM-HJZT6Xzj-088N4hN3KsDME&index=9\"\n",
              "            frameborder=\"0\"\n",
              "            allowfullscreen\n",
              "        ></iframe>\n",
              "        "
            ],
            "text/plain": [
              "<IPython.lib.display.YouTubeVideo at 0x7efe85171690>"
            ]
          },
          "metadata": {},
          "execution_count": 6
        }
      ],
      "metadata": {
        "colab": {
          "base_uri": "https://localhost:8080/",
          "height": 321
        },
        "id": "JkGT52I9Onm_",
        "outputId": "58b05e98-fbc1-4427-a516-7ee18e2e359e"
      }
    },
    {
      "cell_type": "markdown",
      "source": [
        "### Characters in strings\n",
        "\n",
        "\n",
        "Reference:- https://www.programiz.com/python-programming/string\n",
        "\n"
      ],
      "metadata": {
        "id": "Ee_vso2gOnm_"
      }
    },
    {
      "cell_type": "code",
      "execution_count": null,
      "source": [
        "# declare the variables x = cat and y = dog and print it\n",
        "x='cat'\n",
        "y='dog'\n",
        "print(x)\n",
        "print(y)"
      ],
      "outputs": [
        {
          "output_type": "stream",
          "name": "stdout",
          "text": [
            "cat\n",
            "dog\n"
          ]
        }
      ],
      "metadata": {
        "id": "3SeJY_uNOnm_",
        "colab": {
          "base_uri": "https://localhost:8080/"
        },
        "outputId": "fecdf713-2c81-4b22-8f2a-2fb951773b9c"
      }
    },
    {
      "cell_type": "code",
      "execution_count": null,
      "source": [
        "#Print first character of both x and y. \n",
        "print(\"First ch of x = {}\".format(x[0]))\n",
        "print(\"First ch of y = {}\".format(y[0]))\n"
      ],
      "outputs": [
        {
          "output_type": "stream",
          "name": "stdout",
          "text": [
            "First ch of x = c\n",
            "First ch of y = d\n"
          ]
        }
      ],
      "metadata": {
        "id": "J6WM2PYhOnm_",
        "colab": {
          "base_uri": "https://localhost:8080/"
        },
        "outputId": "5a367dfc-a430-48a2-87f0-7c0115384995"
      }
    },
    {
      "cell_type": "code",
      "execution_count": null,
      "source": [
        "#Print last character of both x and y.\n",
        "print(\"Last ch of x={}\".format(x[-1]))\n",
        "print(\"Last ch of x={}\".format(y[-1]))"
      ],
      "outputs": [
        {
          "output_type": "stream",
          "name": "stdout",
          "text": [
            "Last ch of x=t\n",
            "Last ch of x=g\n"
          ]
        }
      ],
      "metadata": {
        "id": "T4cyd2QJOnnA",
        "colab": {
          "base_uri": "https://localhost:8080/"
        },
        "outputId": "b7afc6e0-3b5e-4e5d-cd36-21fa9ab95251"
      }
    },
    {
      "cell_type": "code",
      "execution_count": null,
      "source": [
        "#Print len of both x and y\n",
        "print(\"Lenght of x is ={}\".format(len(x)))\n",
        "print(\"Lenght of x is ={}\".format(len(y)))"
      ],
      "outputs": [
        {
          "output_type": "stream",
          "name": "stdout",
          "text": [
            "Lenght of x is =3\n",
            "Lenght of x is =3\n"
          ]
        }
      ],
      "metadata": {
        "id": "jWHyH2o7OnnA",
        "colab": {
          "base_uri": "https://localhost:8080/"
        },
        "outputId": "847d9fd5-04ec-4a21-c875-57f54cc05768"
      }
    },
    {
      "cell_type": "code",
      "execution_count": null,
      "source": [
        "#concatenate both x and y and store it in variable z and print z\n",
        "z=x+y\n",
        "print(z)"
      ],
      "outputs": [
        {
          "output_type": "stream",
          "name": "stdout",
          "text": [
            "catdog\n"
          ]
        }
      ],
      "metadata": {
        "id": "wcu4u4ZdOnnA",
        "colab": {
          "base_uri": "https://localhost:8080/"
        },
        "outputId": "5a73558b-17c8-4f32-a57f-37b07a098934"
      }
    },
    {
      "cell_type": "code",
      "execution_count": null,
      "source": [
        "#check if x is part of z \n",
        "if x in z:\n",
        "  print(\"True\")"
      ],
      "outputs": [
        {
          "output_type": "stream",
          "name": "stdout",
          "text": [
            "True\n"
          ]
        }
      ],
      "metadata": {
        "id": "gfbQ0ahAOnnA",
        "colab": {
          "base_uri": "https://localhost:8080/"
        },
        "outputId": "0b7ab34f-652c-42c7-8657-5508dd192f8c"
      }
    },
    {
      "cell_type": "markdown",
      "source": [
        "### String slicing\n",
        "\n",
        "\n",
        "\n",
        "Hey coder, do you know? Python slicing is about obtaining a sub-string from the given string by slicing it respectively from start to end\n",
        "\n",
        "So be ready to implement it today!\n",
        "<p style='text-align: right;'> 2 points </p>"
      ],
      "metadata": {
        "id": "lVchUi7YOnnB"
      }
    },
    {
      "cell_type": "code",
      "execution_count": null,
      "source": [
        "#Create variable a = “pineapple”\n",
        "a = 'pineapple'\n",
        "print(a)"
      ],
      "outputs": [
        {
          "output_type": "stream",
          "name": "stdout",
          "text": [
            "pineapple\n"
          ]
        }
      ],
      "metadata": {
        "id": "VPiDEDDTOnnB",
        "colab": {
          "base_uri": "https://localhost:8080/"
        },
        "outputId": "86f2ad0d-9e5c-4d4c-e256-210be50c5971"
      }
    },
    {
      "cell_type": "code",
      "execution_count": null,
      "source": [
        "# Using index slicing, print the words ‘pine’ and “apple”.\n",
        "# HINT - a[:]\n",
        "print(a[0:4])\n",
        "print(a[4:])"
      ],
      "outputs": [
        {
          "output_type": "stream",
          "name": "stdout",
          "text": [
            "pine\n",
            "apple\n"
          ]
        }
      ],
      "metadata": {
        "id": "eCNFSjIROnnB",
        "colab": {
          "base_uri": "https://localhost:8080/"
        },
        "outputId": "e4213bc4-0b39-423c-b06d-8c371567f858"
      }
    },
    {
      "cell_type": "code",
      "execution_count": null,
      "source": [
        "#Convert a into upper case\n",
        "print(a.upper())"
      ],
      "outputs": [
        {
          "output_type": "stream",
          "name": "stdout",
          "text": [
            "PINEAPPLE\n"
          ]
        }
      ],
      "metadata": {
        "id": "Z6881zT0OnnB",
        "colab": {
          "base_uri": "https://localhost:8080/"
        },
        "outputId": "3a35d0c9-c44b-47ff-dc77-03afa61a2160"
      }
    },
    {
      "cell_type": "markdown",
      "source": [
        "## Dealing with Sentences\n",
        "\n",
        "<p style='text-align: right;'> 1+1+1+1+1+1 = 6 points </p>\n"
      ],
      "metadata": {
        "id": "mEw9dmM2OnnC"
      }
    },
    {
      "cell_type": "code",
      "execution_count": null,
      "source": [
        "# Declare a sentence of ‘I am flying to London’ and print it\n",
        "Sent='I am flying to London'\n",
        "print(Sent)"
      ],
      "outputs": [
        {
          "output_type": "stream",
          "name": "stdout",
          "text": [
            "I am flying to London\n"
          ]
        }
      ],
      "metadata": {
        "id": "O-eulzDKOnnC",
        "colab": {
          "base_uri": "https://localhost:8080/"
        },
        "outputId": "5dd636c8-b492-4550-ea7e-5cb922318f92"
      }
    },
    {
      "cell_type": "code",
      "execution_count": null,
      "source": [
        "#Print length of the sentence\n",
        "print(len(Sent))"
      ],
      "outputs": [
        {
          "output_type": "stream",
          "name": "stdout",
          "text": [
            "21\n"
          ]
        }
      ],
      "metadata": {
        "id": "6YqhY71aOnnC",
        "colab": {
          "base_uri": "https://localhost:8080/"
        },
        "outputId": "d8df8697-482a-4d26-97ee-ef01ff464194"
      }
    },
    {
      "cell_type": "code",
      "execution_count": null,
      "source": [
        "#Using list indexing, to print the word London\n",
        "sent1=Sent.split()\n",
        "print(sent1)\n",
        "print(sent1[-1])"
      ],
      "outputs": [
        {
          "output_type": "stream",
          "name": "stdout",
          "text": [
            "['I', 'am', 'flying', 'to', 'London']\n",
            "London\n"
          ]
        }
      ],
      "metadata": {
        "id": "ueh0avBIOnnC",
        "colab": {
          "base_uri": "https://localhost:8080/"
        },
        "outputId": "d0aa9e30-1f99-4416-f3ad-9d3260425727"
      }
    },
    {
      "cell_type": "code",
      "execution_count": null,
      "source": [
        "# Use .split to get list of individual words in the sentence\n",
        "print(sent1)"
      ],
      "outputs": [
        {
          "output_type": "stream",
          "name": "stdout",
          "text": [
            "['I', 'am', 'flying', 'to', 'London']\n"
          ]
        }
      ],
      "metadata": {
        "id": "XxWpC9-pOnnC",
        "colab": {
          "base_uri": "https://localhost:8080/"
        },
        "outputId": "ed8298ab-9942-4d94-a7f9-da47ffe4f59f"
      }
    },
    {
      "cell_type": "code",
      "execution_count": null,
      "source": [
        "# Convert sentence in lower case \n",
        "print(Sent.lower())"
      ],
      "outputs": [
        {
          "output_type": "stream",
          "name": "stdout",
          "text": [
            "i am flying to london\n"
          ]
        }
      ],
      "metadata": {
        "id": "cv-iS9BrOnnD",
        "colab": {
          "base_uri": "https://localhost:8080/"
        },
        "outputId": "b243a537-a319-4ea9-9fd8-319a6f66ee44"
      }
    },
    {
      "cell_type": "code",
      "execution_count": null,
      "source": [
        "# Convert sentence in upper case .\n",
        "print(Sent.upper())"
      ],
      "outputs": [
        {
          "output_type": "stream",
          "name": "stdout",
          "text": [
            "I AM FLYING TO LONDON\n"
          ]
        }
      ],
      "metadata": {
        "id": "Qv4XhFETOnnD",
        "colab": {
          "base_uri": "https://localhost:8080/"
        },
        "outputId": "9d6e6a0c-41f0-4a2e-eb19-802d2e431056"
      }
    },
    {
      "cell_type": "markdown",
      "source": [
        "Great job! Slicing is fun."
      ],
      "metadata": {
        "id": "Wz53Tr8YOnnD"
      }
    },
    {
      "cell_type": "markdown",
      "source": [
        "## Functions\n",
        "\n",
        "Declare a function named square, which takes an input as x, and returns the square of x.\n",
        "\n",
        "<p style='text-align: right;'> 5 + 3 = 8 points </p>\n"
      ],
      "metadata": {
        "id": "EpMEG_R3OnnE"
      }
    },
    {
      "cell_type": "code",
      "execution_count": null,
      "source": [
        "# Functions-1\n",
        "YouTubeVideo('https://www.youtube.com/watch?v=cjtAbp-Ux-w&list=PLsR_0x6BuM-HJZT6Xzj-088N4hN3KsDME&index=15',width=600,height=300)"
      ],
      "outputs": [
        {
          "output_type": "execute_result",
          "data": {
            "text/html": [
              "\n",
              "        <iframe\n",
              "            width=\"600\"\n",
              "            height=\"300\"\n",
              "            src=\"https://www.youtube.com/embed/https://www.youtube.com/watch?v=cjtAbp-Ux-w&list=PLsR_0x6BuM-HJZT6Xzj-088N4hN3KsDME&index=15\"\n",
              "            frameborder=\"0\"\n",
              "            allowfullscreen\n",
              "        ></iframe>\n",
              "        "
            ],
            "text/plain": [
              "<IPython.lib.display.YouTubeVideo at 0x7efe85178a50>"
            ]
          },
          "metadata": {},
          "execution_count": 7
        }
      ],
      "metadata": {
        "colab": {
          "base_uri": "https://localhost:8080/",
          "height": 321
        },
        "id": "xrJ-Nmq7OnnE",
        "outputId": "08b3a556-6a58-4ea1-cff6-94bf6af3e707"
      }
    },
    {
      "cell_type": "code",
      "source": [
        "# Function-2\n",
        "YouTubeVideo('https://www.youtube.com/watch?v=cjtAbp-Ux-w&list=PLsR_0x6BuM-HJZT6Xzj-088N4hN3KsDME&index=16',width=600,height=300)"
      ],
      "metadata": {
        "colab": {
          "base_uri": "https://localhost:8080/",
          "height": 321
        },
        "id": "LPGhSZf_S9JU",
        "outputId": "e6f29551-c93c-45ed-d39d-1e8a9722aea9"
      },
      "execution_count": null,
      "outputs": [
        {
          "output_type": "execute_result",
          "data": {
            "text/html": [
              "\n",
              "        <iframe\n",
              "            width=\"600\"\n",
              "            height=\"300\"\n",
              "            src=\"https://www.youtube.com/embed/https://www.youtube.com/watch?v=cjtAbp-Ux-w&list=PLsR_0x6BuM-HJZT6Xzj-088N4hN3KsDME&index=16\"\n",
              "            frameborder=\"0\"\n",
              "            allowfullscreen\n",
              "        ></iframe>\n",
              "        "
            ],
            "text/plain": [
              "<IPython.lib.display.YouTubeVideo at 0x7efe85182850>"
            ]
          },
          "metadata": {},
          "execution_count": 8
        }
      ]
    },
    {
      "cell_type": "markdown",
      "source": [
        "Call the function to find the value of square of 9."
      ],
      "metadata": {
        "id": "KX4y0IHVOnnE"
      }
    },
    {
      "cell_type": "code",
      "execution_count": null,
      "source": [
        "# find the square of 9 using the function square you have just created.\n",
        "def square(x):\n",
        "        return x**2\n",
        "z=square(9)\n",
        "print(z)\n",
        "    # find the square of 9 using the function square you have just created."
      ],
      "outputs": [
        {
          "output_type": "stream",
          "name": "stdout",
          "text": [
            "81\n"
          ]
        }
      ],
      "metadata": {
        "id": "ms2A-A15OnnE",
        "colab": {
          "base_uri": "https://localhost:8080/"
        },
        "outputId": "0967973f-fabc-4e4b-9796-9b9c920d20df"
      }
    },
    {
      "cell_type": "markdown",
      "source": [
        "Wohoo! see, defining function was simple"
      ],
      "metadata": {
        "id": "ehBLnbH-OnnE"
      }
    },
    {
      "cell_type": "markdown",
      "source": [
        "#### Define another function which checks whether a given is number is odd or even for a given input and it should print whether the  number is odd or even as an output\n",
        "<p style='text-align: right;'> 5 + 3 = 8 points </p>\n"
      ],
      "metadata": {
        "id": "h01u89J0OnnF"
      }
    },
    {
      "cell_type": "code",
      "execution_count": null,
      "source": [
        "def odd(x):\n",
        "  if(x%2 == 0):\n",
        "    print(\"{} is Even\".format(x))\n",
        "  else:\n",
        "    print(\"{} is Odd\".format(x))\n",
        "\n",
        "x=int(input())\n",
        "odd(x)"
      ],
      "outputs": [
        {
          "output_type": "stream",
          "name": "stdout",
          "text": [
            "4\n",
            "4 is Even\n"
          ]
        }
      ],
      "metadata": {
        "id": "MNVuqrmgOnnF",
        "colab": {
          "base_uri": "https://localhost:8080/"
        },
        "outputId": "9f1d77b6-066d-4155-ea7e-b170960ea65e"
      }
    },
    {
      "cell_type": "markdown",
      "source": [
        "Hey smarty! lets use both the functions together to check whether the square of 3,6 and 21 are odd or even.\n"
      ],
      "metadata": {
        "id": "PH7VEP8eOnnF"
      }
    },
    {
      "cell_type": "code",
      "execution_count": null,
      "source": [
        " # your code here\n",
        "def square(x):\n",
        "  y= x*x\n",
        "  if(y%2==0):\n",
        "    print(\"{} is Even\".format(y))\n",
        "  else:\n",
        "    print(\"{} is Odd\".format(y))\n",
        "x=[int(x) for x in input().split()]\n",
        "result=map (square,x)\n",
        "print(list(result))\n",
        "\n"
      ],
      "outputs": [
        {
          "output_type": "stream",
          "name": "stdout",
          "text": [
            "2 4 9\n",
            "4 is Even\n",
            "16 is Even\n",
            "81 is Odd\n",
            "[None, None, None]\n"
          ]
        }
      ],
      "metadata": {
        "id": "lhFMpKfHOnnF",
        "colab": {
          "base_uri": "https://localhost:8080/"
        },
        "outputId": "68f6a87d-1b7d-417e-aaeb-a5c4d58bf8f9"
      }
    },
    {
      "cell_type": "markdown",
      "source": [
        "hey hey! You did a great code. Did you see the benefit of using functions"
      ],
      "metadata": {
        "id": "aSnw4vEHOnnF"
      }
    },
    {
      "cell_type": "markdown",
      "source": [
        "# Loops and Iterations"
      ],
      "metadata": {
        "id": "7TThdIkzOnnG"
      }
    },
    {
      "cell_type": "markdown",
      "source": [
        "## If statement\n",
        "\n",
        "<p style='text-align: right;'> 1 + 2 + 3 = 6 points </p>\n"
      ],
      "metadata": {
        "id": "MyKf8rF1OnnG"
      }
    },
    {
      "cell_type": "code",
      "source": [
        "# conditions\n",
        "YouTubeVideo('https://www.youtube.com/watch?v=CLqw5KZZ8Dg&list=PLsR_0x6BuM-HJZT6Xzj-088N4hN3KsDME&index=11',width=600,height=300)"
      ],
      "metadata": {
        "colab": {
          "base_uri": "https://localhost:8080/",
          "height": 321
        },
        "id": "8jLCzSQ9Tafb",
        "outputId": "1ab609ca-b776-458f-8cf7-8f1a4a6ff6a7"
      },
      "execution_count": null,
      "outputs": [
        {
          "output_type": "execute_result",
          "data": {
            "text/html": [
              "\n",
              "        <iframe\n",
              "            width=\"600\"\n",
              "            height=\"300\"\n",
              "            src=\"https://www.youtube.com/embed/https://www.youtube.com/watch?v=CLqw5KZZ8Dg&list=PLsR_0x6BuM-HJZT6Xzj-088N4hN3KsDME&index=11\"\n",
              "            frameborder=\"0\"\n",
              "            allowfullscreen\n",
              "        ></iframe>\n",
              "        "
            ],
            "text/plain": [
              "<IPython.lib.display.YouTubeVideo at 0x7efe8518e810>"
            ]
          },
          "metadata": {},
          "execution_count": 9
        }
      ]
    },
    {
      "cell_type": "code",
      "execution_count": null,
      "source": [
        "#Declare a variable x equal to a number of your choice.\n",
        "#your code here\n",
        "x =  3\n",
        "print(x)"
      ],
      "outputs": [
        {
          "output_type": "stream",
          "name": "stdout",
          "text": [
            "3\n"
          ]
        }
      ],
      "metadata": {
        "id": "3srU1iT1OnnG",
        "colab": {
          "base_uri": "https://localhost:8080/"
        },
        "outputId": "a80b1713-05c5-43f4-ae6c-b81c7f43a589"
      }
    },
    {
      "cell_type": "code",
      "execution_count": null,
      "source": [
        "#Using an if statement, print whether x is zero, positive or negative.\n",
        "if x ==0:\n",
        "  print(\"{} is Zero\".format(x))\n",
        "elif (x<0):\n",
        "  print (\"{} is Negative\".format(x))\n",
        "else:\n",
        "  print(\"{} is Positive\".format(x))\n"
      ],
      "outputs": [
        {
          "output_type": "stream",
          "name": "stdout",
          "text": [
            "3 is Positive\n"
          ]
        }
      ],
      "metadata": {
        "id": "qjbO3dNLOnnH",
        "colab": {
          "base_uri": "https://localhost:8080/"
        },
        "outputId": "5049ee7e-aa50-428b-da0a-788641deddfd"
      }
    },
    {
      "cell_type": "code",
      "execution_count": null,
      "source": [
        "# Now Define a function, which takes input from the user and prints whether the given input is zero,positive or negative.\n",
        "def check_num(x):\n",
        "  if(x<0):\n",
        "    print(\"{} is negative\".format(x))\n",
        "  elif(x>0):\n",
        "    print(\"{} is positive\".format(x))\n",
        "  else:\n",
        "    print(\"{} is zero\".format(x))\n",
        "check_num(10)\n",
        "check_num(-2)\n",
        "check_num(0)"
      ],
      "outputs": [
        {
          "output_type": "stream",
          "name": "stdout",
          "text": [
            "10 is positive\n",
            "-2 is negative\n",
            "0 is zero\n"
          ]
        }
      ],
      "metadata": {
        "id": "Qje0Z0zLOnnH",
        "colab": {
          "base_uri": "https://localhost:8080/"
        },
        "outputId": "e1e38836-ba0f-48ff-9508-c9b92df2b87a"
      }
    },
    {
      "cell_type": "markdown",
      "source": [
        "## For loop"
      ],
      "metadata": {
        "id": "8QnzejuHOnnH"
      }
    },
    {
      "cell_type": "markdown",
      "source": [
        "<p style='text-align: right;'> 2 points </p>\n"
      ],
      "metadata": {
        "id": "Nh3IHYqNOnnH"
      }
    },
    {
      "cell_type": "code",
      "source": [
        "# Loops\n",
        "YouTubeVideo('https://www.youtube.com/watch?v=56-IOucIwAU&list=PLsR_0x6BuM-HJZT6Xzj-088N4hN3KsDME&index=12',width=600,height=300)"
      ],
      "metadata": {
        "colab": {
          "base_uri": "https://localhost:8080/",
          "height": 321
        },
        "id": "5iohidqhTzVZ",
        "outputId": "ba74b218-b345-472e-becc-65127610f5e7"
      },
      "execution_count": null,
      "outputs": [
        {
          "output_type": "execute_result",
          "data": {
            "text/html": [
              "\n",
              "        <iframe\n",
              "            width=\"600\"\n",
              "            height=\"300\"\n",
              "            src=\"https://www.youtube.com/embed/https://www.youtube.com/watch?v=56-IOucIwAU&list=PLsR_0x6BuM-HJZT6Xzj-088N4hN3KsDME&index=12\"\n",
              "            frameborder=\"0\"\n",
              "            allowfullscreen\n",
              "        ></iframe>\n",
              "        "
            ],
            "text/plain": [
              "<IPython.lib.display.YouTubeVideo at 0x7efe85178090>"
            ]
          },
          "metadata": {},
          "execution_count": 10
        }
      ]
    },
    {
      "cell_type": "code",
      "execution_count": null,
      "source": [
        "#Create a list x, such that it contains the elements - ‘India’, ‘Israel’,’Canada’.\n",
        "x=['india','Israel','Canada']\n",
        "print(x)\n"
      ],
      "outputs": [
        {
          "output_type": "stream",
          "name": "stdout",
          "text": [
            "['india', 'Israel', 'Canada']\n"
          ]
        }
      ],
      "metadata": {
        "id": "50nOGOuqOnnI",
        "colab": {
          "base_uri": "https://localhost:8080/"
        },
        "outputId": "bfa1319f-0399-4d1e-9691-efc004104fbe"
      }
    },
    {
      "cell_type": "code",
      "execution_count": null,
      "source": [
        "#Using For loop, iterate over the list and print the elements.\n",
        "for a in x :print(a)"
      ],
      "outputs": [
        {
          "output_type": "stream",
          "name": "stdout",
          "text": [
            "india\n",
            "Israel\n",
            "Canada\n"
          ]
        }
      ],
      "metadata": {
        "id": "VxfS6YKYOnnI",
        "colab": {
          "base_uri": "https://localhost:8080/"
        },
        "outputId": "9d4df7e7-dec3-4815-d652-c2bc52d65d71"
      }
    },
    {
      "cell_type": "markdown",
      "source": [
        "<p style='text-align: right;'> 2 points </p>\n"
      ],
      "metadata": {
        "id": "jz61jhLlOnnI"
      }
    },
    {
      "cell_type": "code",
      "execution_count": null,
      "source": [
        "# Using For loop, print the table of 2.\n",
        "for a in range(2,10):\n",
        "  print(\"2*{}={}\".format(a,a*2))"
      ],
      "outputs": [
        {
          "output_type": "stream",
          "name": "stdout",
          "text": [
            "2*2=4\n",
            "2*3=6\n",
            "2*4=8\n",
            "2*5=10\n",
            "2*6=12\n",
            "2*7=14\n",
            "2*8=16\n",
            "2*9=18\n"
          ]
        }
      ],
      "metadata": {
        "id": "mvqvf7OAOnnI",
        "colab": {
          "base_uri": "https://localhost:8080/"
        },
        "outputId": "a885939a-5645-4961-e081-bb982930713d"
      }
    },
    {
      "cell_type": "markdown",
      "source": [
        "For a given list, x = [21, ‘hello,’cream’, 20,19,’village’], using for loop to iterate over the items and using - if statement print the items that are of type int"
      ],
      "metadata": {
        "id": "yg4SzR4oOnnI"
      }
    },
    {
      "cell_type": "code",
      "execution_count": null,
      "source": [
        "#code here\n",
        "# hint: use if type(i) == int: condition to print variable which are of int type\n",
        "def num(a):\n",
        "  if(type(a)==int):\n",
        "    return a\n",
        "  else:\n",
        "    return 0\n",
        "\n",
        "x=[21,'hello',20,12,'village']\n",
        "result=map(num,x)\n",
        "print(list(result))\n"
      ],
      "outputs": [
        {
          "output_type": "stream",
          "name": "stdout",
          "text": [
            "[21, 0, 20, 12, 0]\n"
          ]
        }
      ],
      "metadata": {
        "id": "05SkQO3COnnJ",
        "colab": {
          "base_uri": "https://localhost:8080/"
        },
        "outputId": "7bf6d22b-2301-4fc6-962a-a887ff611d73"
      }
    },
    {
      "cell_type": "markdown",
      "source": [
        "Using For loop, lets create a pattern. "
      ],
      "metadata": {
        "id": "ab7bEu3xOnnJ"
      }
    },
    {
      "cell_type": "markdown",
      "source": [
        "<p style='text-align: right;'> 10 points </p>\n"
      ],
      "metadata": {
        "id": "2KNZFi5zOnnJ"
      }
    },
    {
      "cell_type": "code",
      "execution_count": null,
      "source": [
        "# print the following pattern\n",
        "n=int(input())\n",
        "for i in range(0,n):\n",
        "  for j in range(0,i+1):\n",
        "    print(\"* \" ,end='')\n",
        "  print(\"\\r\")\n"
      ],
      "outputs": [
        {
          "output_type": "stream",
          "name": "stdout",
          "text": [
            "5\n",
            "* \n",
            "* * \n",
            "* * * \n",
            "* * * * \n",
            "* * * * * \n"
          ]
        }
      ],
      "metadata": {
        "id": "kOZsmIiLOnnJ",
        "colab": {
          "base_uri": "https://localhost:8080/"
        },
        "outputId": "1f2ebf71-f8d6-49f0-a06e-c3f5075f8b20"
      }
    },
    {
      "cell_type": "markdown",
      "source": [
        "## While loop"
      ],
      "metadata": {
        "id": "1WYgQq4AOnnJ"
      }
    },
    {
      "cell_type": "markdown",
      "source": [
        "- Using while loop make a function that prints all the values between 1 to n. "
      ],
      "metadata": {
        "id": "jyjME3nPOnnK"
      }
    },
    {
      "cell_type": "markdown",
      "source": [
        "<p style='text-align: right;'> 10 points </p>\n"
      ],
      "metadata": {
        "id": "xbJ4Cz9gOnnK"
      }
    },
    {
      "cell_type": "code",
      "execution_count": 142,
      "source": [
        "def counter(n):\n",
        "  i=1\n",
        "  while i <= n:\n",
        "    print(i)\n",
        "    i+=1"
      ],
      "outputs": [],
      "metadata": {
        "id": "2k9Aij8_OnnK"
      }
    },
    {
      "cell_type": "code",
      "execution_count": 143,
      "source": [
        " counter(10) #this should print numbers from 1 to 10"
      ],
      "outputs": [
        {
          "output_type": "stream",
          "name": "stdout",
          "text": [
            "1\n",
            "2\n",
            "3\n",
            "4\n",
            "5\n",
            "6\n",
            "7\n",
            "8\n",
            "9\n",
            "10\n"
          ]
        }
      ],
      "metadata": {
        "id": "qd1VznT2OnnK",
        "colab": {
          "base_uri": "https://localhost:8080/"
        },
        "outputId": "685f0513-d2a5-47d2-bccb-8c3af624abf2"
      }
    },
    {
      "cell_type": "markdown",
      "source": [
        "### Write the code for the following, what is the output obtained?\n",
        "- Set a variable flag = True, num = 5\n",
        "- Run a while loop till flag = True\n",
        "- Inside the while loop - \n",
        "    - Increment the value of num by 5\n",
        "    - If value of num is greater then 50, set flag to be False"
      ],
      "metadata": {
        "id": "kKB5qVCxOnnL"
      }
    },
    {
      "cell_type": "code",
      "execution_count": 155,
      "source": [
        "flag='True'\n",
        "num=5\n",
        "while flag==\"True\":\n",
        "  if (num>50):\n",
        "    flag='False'\n",
        "  print(num)\n",
        "  num=num+5\n",
        "\n"
      ],
      "outputs": [
        {
          "output_type": "stream",
          "name": "stdout",
          "text": [
            "5\n",
            "10\n",
            "15\n",
            "20\n",
            "25\n",
            "30\n",
            "35\n",
            "40\n",
            "45\n",
            "50\n",
            "55\n"
          ]
        }
      ],
      "metadata": {
        "id": "RsCW8__JOnnM",
        "colab": {
          "base_uri": "https://localhost:8080/"
        },
        "outputId": "9249e6f7-10b9-4a6d-c303-7565b29058c0"
      }
    },
    {
      "cell_type": "markdown",
      "source": [
        "Awsesome! Great job so far. Hope you fell in love with python now."
      ],
      "metadata": {
        "id": "sQxbS2kzOnnM"
      }
    },
    {
      "cell_type": "markdown",
      "source": [
        "----------------------------------------------------------------------"
      ],
      "metadata": {
        "id": "zroTaOSLOnnN"
      }
    },
    {
      "cell_type": "markdown",
      "source": [
        "# Smile, you completed the first milestone :)!! "
      ],
      "metadata": {
        "id": "4ibh00DQOnnN"
      }
    },
    {
      "cell_type": "markdown",
      "source": [
        "# Its Feedback Time!\n",
        "\n",
        "We hope you’ve enjoyed this course so far. We’re committed to help you use \"AI for All\" course to its full potential, so that you have a great learning experience. And that’s why we need your help in form of a feedback here.\n",
        "\n",
        "**Please fill this feedback form**\n",
        " https://zfrmz.in/MtRG5oWXBdesm6rmSM7N\n",
        " \n",
        "-------------------------------------\n",
        " "
      ],
      "metadata": {
        "id": "erddMO8yOnnN"
      }
    }
  ],
  "metadata": {
    "kernelspec": {
      "name": "python3",
      "display_name": "Python 3.7.7 64-bit ('base': conda)"
    },
    "language_info": {
      "codemirror_mode": {
        "name": "ipython",
        "version": 3
      },
      "file_extension": ".py",
      "mimetype": "text/x-python",
      "name": "python",
      "nbconvert_exporter": "python",
      "pygments_lexer": "ipython3",
      "version": "3.7.7"
    },
    "interpreter": {
      "hash": "fb2d3f2a20add04007a107bc483b4e625069f7acb60837d887d77da2f0eec5b6"
    },
    "colab": {
      "name": "(Updated)Python_Basics_withLinks_noCode.ipynb",
      "provenance": [],
      "collapsed_sections": [],
      "include_colab_link": true
    }
  },
  "nbformat": 4,
  "nbformat_minor": 0
}